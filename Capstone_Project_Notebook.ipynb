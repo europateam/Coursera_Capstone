{
    "cells": [
        {
            "cell_type": "markdown",
            "metadata": {
                "collapsed": true
            },
            "source": "## This is notebook is mainly used for Coursera Capstone Project\nThe notebook is also available on github https://github.com/europateam/Coursera_Capstone.git"
        },
        {
            "cell_type": "code",
            "execution_count": 3,
            "metadata": {},
            "outputs": [],
            "source": "import pandas as pd\nimport numpy as np\nimport babel.numbers\nimport decimal\n\n# library to handle requests\nimport requests \n\n# tranform JSON file into a pandas dataframe\nfrom pandas.io.json import json_normalize \nimport json\n\n!pip install geopy\nfrom geopy.geocoders import Nominatim\n\n# Matplotlib and associated plotting modules\nimport matplotlib as mpl\nimport matplotlib.pyplot as plt\nimport matplotlib.cm as cm\nimport matplotlib.colors as colors\nmpl.style.use(['ggplot']) # optional: for ggplot-like style\n\n!pip install folium\nimport folium # map rendering library\n\n# import k-means from clustering stage\nfrom sklearn.cluster import KMeans\nfrom scipy.spatial.distance import cdist \n\npd.set_option('display.max_columns', None)\npd.set_option('display.max_rows', None)"
        },
        {
            "cell_type": "markdown",
            "metadata": {},
            "source": "#### Download LA Census Tract Locations"
        },
        {
            "cell_type": "code",
            "execution_count": null,
            "metadata": {},
            "outputs": [],
            "source": "# GEOID  to connect neighbor to CENSUS DATA \n#https://usc.data.socrata.com/Los-Angeles/Census-Tract-Locations-LA-/atat-mmad\n#Census Tract Locations (LA)\n    \ndf_geo = pd.read_csv('https://usc.data.socrata.com/resource/atat-mmad.csv')\n\n# clean-up dataframe\ndf_geo = df_geo.drop(['tract','location'],axis=1)\ndf_geo.columns = ['geoid','tract','neighborhood','latitude','longitude']\ndf_geo['geoid'] = df_geo.geoid.str.replace('1400000US','')\ndf_geo.geoid = df_geo.geoid.astype('int64')\n\n\n\nCENTRAL_LA = ['Arlington Heights','Beverly Grove','Carthay','Chinatown','Downtown','East Hollywood','Echo Park','Elysian Park','Elysian Valley'\n,'Faircrest Heights', 'Griffith Park', 'Hancock Park','Harvard Heights','Hollywood','Hollywood Hills','Hollywood Hills West'\n,'Koreatown','Larchmont','Los Feliz','Mid-City','Mid-Wilshire','Pico-Union','Silver Lake','West Hollywood'\n,'Westlake','Windsor Square']\n\n# filtered by CENTRAL LA neighborhood\ndf_geo = df_geo[df_geo['neighborhood'].isin (CENTRAL_LA)]\n\ndf_geo = df_geo.reset_index()\ndf_geo.drop(['index','latitude','longitude'],axis=1,inplace=True)\n#df_geo.head() "
        },
        {
            "cell_type": "markdown",
            "metadata": {},
            "source": "#### Create Neighborhood Median Income Dataframe"
        },
        {
            "cell_type": "code",
            "execution_count": null,
            "metadata": {},
            "outputs": [],
            "source": "# Living Wage (2017)\n# https://data.lacounty.gov/Sustainability/Living-Wage-2017-/f5es-twcr\ndf_wage = pd.read_csv('https://data.lacounty.gov/resource/f5es-twcr.csv')\n\n#clean-up dataframe\ndf_wage = df_wage[['geoid','tractce','medincome']]\ndf_wage.rename(columns = {'tractce':'tract','medincome': 'income'},inplace=True)\n\n#df_wage.shape\n#df_wage.head()"
        },
        {
            "cell_type": "markdown",
            "metadata": {},
            "source": "#### Create Neighborhood population Dataframe"
        },
        {
            "cell_type": "code",
            "execution_count": null,
            "metadata": {},
            "outputs": [],
            "source": "# LA County Estimated Population (2016)\n# https://dev.socrata.com/foundry/data.lacounty.gov/ai64-dnh8\n# County of Los Angeles Estimated Population by Census Tract, City Name, Ethnicity, Gender & Age Group: CY 2016\n\nurl = 'https://data.lacounty.gov/resource/ai64-dnh8.csv'\n\ndf_pop = pd.read_csv(url)\n\n#clean-up dataframe\ndf_pop.drop(['fips','cityname','service_area'],axis=1,inplace=True)\ndf_pop.rename(columns = {'census_tract':'tract'},inplace=True)\ndf_pop['total_pop'] = df_pop[['male','female']].sum(axis=1)\n\n#df_pop.shape\n#df_pop.head()"
        },
        {
            "cell_type": "markdown",
            "metadata": {},
            "source": "#### Create a combined Neighborhood Median Income & Population Dataframe "
        },
        {
            "cell_type": "code",
            "execution_count": null,
            "metadata": {},
            "outputs": [],
            "source": "# add geoid to income and popuplation dataframe. \n# It will be used to draw heat map by income / population\ndf_la_income = pd.merge(df_geo[['geoid','neighborhood']], df_wage, how='left', left_on='geoid', right_on='geoid')\n\ndf_la_income_pop = pd.merge(df_la_income, df_pop [['tract','white','asian','latino','total_pop']], how='left', left_on='tract', right_on='tract')\n\n#df_la_income_pop.head()"
        },
        {
            "cell_type": "code",
            "execution_count": null,
            "metadata": {},
            "outputs": [],
            "source": "# create a rolledup income and population by neighborhood. \n# It will be used to plot income / population of neighborhood\n\ndf_neighborhood_income_pop = df_la_income_pop.groupby('neighborhood').agg(\n                                {\n                                     'total_pop':sum,   \n                                     'white': sum,\n                                     'asian': sum,\n                                     'latino': sum,\n                                     'income': \"mean\"\n                                }\n                            ).reset_index()\n\ndf_neighborhood_income_pop.rename(columns = {'white':'white_pop','asian':'asian_pop','latino':'latino_pop'},inplace=True)\n\n#df_neighborhood_income_pop.head()"
        },
        {
            "cell_type": "code",
            "execution_count": null,
            "metadata": {},
            "outputs": [],
            "source": "# add latitude and longitute to each neighborhood\nlat =[]\nlong = []\nfor neighbor in df_neighborhood_income_pop.neighborhood:\n    address = '{}, Los Angeles CA'.format(neighbor)\n\n    geolocator = Nominatim(user_agent=\"ny_explorer\")\n    location = geolocator.geocode(address)\n    lat.append(location.latitude)\n    long.append(location.longitude)\n\n    \ndf_neighborhood_income_pop['latitude'] = lat\ndf_neighborhood_income_pop['longitude'] = long\n\n#df_neighborhood_income_pop.head()"
        },
        {
            "cell_type": "markdown",
            "metadata": {},
            "source": "#### Visualize neighborhood median income / population of neighborhoods"
        },
        {
            "cell_type": "code",
            "execution_count": null,
            "metadata": {},
            "outputs": [],
            "source": "def plotBarGraph(df_data,title,y_value,y_label,bar_color, legend_on):\n    \n    df_data[y_value].plot(kind='bar', color= bar_color, stacked=False, figsize=(16, 6))\n    plt.xlabel('Neighborhood',fontsize=16) # add to x-label to the plot\n    plt.ylabel(y_label,fontsize=16) # add y-label to the plot\n    plt.title(title, fontsize=24) # add title to the plot\n\n    if (legend_on):\n        colors = {'population':'blue', 'median income':'red'}         \n        labels = list(colors.keys())\n        handles = [plt.Rectangle((0,0),1,1, color=colors[label]) for label in labels]\n        plt.legend(handles, labels)\n    else:\n        plt.legend().remove()\n        \n    plt.show()"
        },
        {
            "cell_type": "code",
            "execution_count": null,
            "metadata": {},
            "outputs": [],
            "source": "df_data = df_neighborhood_income_pop\ndf_data= df_data.set_index('neighborhood')\nplotBarGraph(df_data,'Central Los Angeles Neighborhood Population - Median Income Ratio',['total_pop','income'],'Population / Median Income',['blue', 'red'], 1 )"
        },
        {
            "cell_type": "code",
            "execution_count": null,
            "metadata": {},
            "outputs": [],
            "source": "\ndf_data[['white_pop','asian_pop','latino_pop']].plot(kind='bar', stacked=True, figsize=(14, 6)).legend(['White populate','Asian population','Latino population'],loc='upper center', ncol=3, title=\"\")\n\n#### Create visualization of neighborhood by household and income\n#label_names = ['White populate','Asian population','Latino population']\n#plt.legend(label_names)\nplt.xlabel('Neighborhood') # add to x-label to the plot\nplt.ylabel('Population') # add y-label to the plot\nplt.title('Central Los Angeles Neighborhood Population by Race') # add title to the plot\n\nplt.show()\n"
        },
        {
            "cell_type": "code",
            "execution_count": null,
            "metadata": {},
            "outputs": [],
            "source": "plotBarGraph(df_data,'Central Los Angeles Neighborhood Population',['total_pop'],'Population',['blue'], 0)"
        },
        {
            "cell_type": "code",
            "execution_count": null,
            "metadata": {},
            "outputs": [],
            "source": "plotBarGraph(df_data,'Central Los Angeles Neighborhood Median Income',['income'],'Median Income',['red'],0 )"
        },
        {
            "cell_type": "code",
            "execution_count": null,
            "metadata": {},
            "outputs": [],
            "source": "# choropleth map\ndef create_HeatMap(title,legendname, df_data, map_attribute, df_markers):\n    la_geo = r'https://opendata.arcgis.com/datasets/d6c55385a0e749519f238b77135eafac_0.geojson'\n    # create a plain LA map\n    central_la = [34.079870, -118.311338]\n\n    la_map = folium.Map(location=central_la, zoom_start=12,tiles='cartodbpositron')\n\n    # generate choropleth map\n    folium.Choropleth(\n        geo_data=la_geo,\n        data=df_data,\n        columns=['neighborhood', map_attribute],\n        key_on='feature.properties.name',\n        fill_color='YlOrRd', \n        fill_opacity=0.7, \n        line_opacity=0.2,\n        highlight=True,\n        line_color='black',\n        nan_fill_color=\"white\",\n        legend_name= legendname\n    ).add_to(la_map)\n\n    title_html = '''<h3 align=\"center\" style=\"font-size:16px\"><b>{}</b></h3>'''.format(title)   \n    la_map.get_root().html.add_child(folium.Element(title_html))\n\n   \n    if not df_markers.empty:\n        \n        # set color scheme for the clusters\n        x = np.arange(kclusters)\n        ys = [i + x + (i*x)**2 for i in range(kclusters)]\n        colors_array = cm.rainbow(np.linspace(0, 1, len(ys)))\n        rainbow = [colors.rgb2hex(i) for i in colors_array]\n\n\n        # add markers to the map\n        for lat, lon, poi, cluster, cluster_label, income, total_pop, white_pop, asian_pop, latino_pop in zip(df_markers['latitude'],\\\n                                                             df_markers['longitude'], df_markers['neighborhood'],\\\n                                                             df_markers['cluster'], df_markers['cluster_label'],\\\n                                                             df_markers['income'], df_markers['total_pop'],\\\n                                                             df_markers['white_pop'], df_markers['asian_pop'],\\\n                                                             df_markers['latino_pop']):\n\n            # build label info\n            \n            label_text = '<h4 align=\"center\">' + str(poi) + '</h4><b>Cluster:</b> ' + cluster_label + \\\n                            '<br><b>Median income:</b> $' + str(income) + \\\n                            '<br><b>Population:</b> ' + str(total_pop) + \\\n                            '<br><b>White:</b> ' + str(white_pop) + ' - <b>Asian:</b> ' + \\\n                            str(asian_pop) + ' - <b>Latino:</b> ' + str(latino_pop)   \n            \n            label_info = folium.Html(label_text,script=True)\n            label = folium.Popup(label_info, max_width=400)\n\n            folium.CircleMarker(\n                [lat, lon],\n                radius=6,\n                popup=label,\n                color=rainbow[cluster-1],\n                fill=True,\n                fill_color=rainbow[cluster-1],\n                fill_opacity=0.7).add_to(la_map)\n\n    # display map\n    return la_map"
        },
        {
            "cell_type": "code",
            "execution_count": null,
            "metadata": {},
            "outputs": [],
            "source": "# remove missing data\ndf_neighborhood_income_pop = df_neighborhood_income_pop.loc[(df_neighborhood_income_pop.total_pop != 0)]\n\ncreate_HeatMap(\"Central LA Neighborhood Population\",\"Population\", df_neighborhood_income_pop, 'total_pop',pd.DataFrame())"
        },
        {
            "cell_type": "markdown",
            "metadata": {},
            "source": "#### Foursquare - explore restaurant around LA CENTRAL neighborhoods"
        },
        {
            "cell_type": "code",
            "execution_count": null,
            "metadata": {},
            "outputs": [],
            "source": "# The code was removed by Watson Studio for sharing."
        },
        {
            "cell_type": "code",
            "execution_count": null,
            "metadata": {},
            "outputs": [],
            "source": "def getNearbyVenues(names, latitudes, longitudes, query, radius=750):\n    \n    venues_list=[]\n    nearby_venues = None\n    for name, lat, lng in zip(names, latitudes, longitudes):\n\n        # create the API request URL\n        url = 'https://api.foursquare.com/v2/venues/explore?&client_id={}&client_secret={}&v={}&ll={},{}&query={}&limit={}&radius={}&limit={}'.format(\n            CLIENT_ID, \n            CLIENT_SECRET, \n            VERSION, \n            lat, \n            lng, \n            query,\n            50,\n            radius, \n            LIMIT)\n\n        # make the GET request\n        \n        try:\n            results = requests.get(url).json()[\"response\"]['groups'][0]['items']\n\n            # return only relevant information for each nearby venue\n            venues_list.append([(\n                name, \n                lat, \n                lng, \n                v['venue']['name'], \n                v['venue']['location']['lat'], \n                v['venue']['location']['lng'],  \n                v['venue']['categories'][0]['name']) for v in results])\n\n            nearby_venues = pd.DataFrame([item for venue_list in venues_list for item in venue_list])\n            nearby_venues.columns = ['Neighborhood', \n                  'Neighborhood Latitude', \n                  'Neighborhood Longitude', \n                  'Venue', \n                  'Venue Latitude', \n                  'Venue Longitude', \n                  'Venue Category']\n\n        except KeyError as ke:\n            pass\n        \n    return(nearby_venues)\n"
        },
        {
            "cell_type": "code",
            "execution_count": null,
            "metadata": {},
            "outputs": [],
            "source": "# explore food venues \nla_venues = getNearbyVenues(df_neighborhood_income_pop.neighborhood, df_neighborhood_income_pop.latitude,df_neighborhood_income_pop.longitude,'food')"
        },
        {
            "cell_type": "code",
            "execution_count": null,
            "metadata": {},
            "outputs": [],
            "source": "# classify venue category into 3 food cateogries: asian, latin, amerian/european\nla_cuisine = la_venues\nla_cuisine['cuisine_type'] = 'Un-Classified'\n\n# Mexican food \nsearchfor = ['Mexican','Argentinian','Brazilian','Latin','Peruvian','Spanish','Cuban'\n             ,'South American']\nla_cuisine.loc[(la_cuisine['Venue Category'].str.contains('|'.join(searchfor))),'cuisine_type'] = 'Latin American Food'\n\n\n#la_asian\nsearchfor = ['Korean','Chinese','Sushi','Asian','Thai','Vietnamese','Hotpot','Dim Sum'\n             ,'Indian','Noodle','Ramen','Dumpling','Filipino','Japanese','Satay','Taiwanese'\n             ,'Poke','Middle Eastern','Donburi Restaurant','Cantonese','Shabu-Shabu']\nla_cuisine.loc[(la_cuisine['Venue Category'].str.contains('|'.join(searchfor))),'cuisine_type'] = 'Asian Food'\n\n\n#la_american\nsearchfor = ['Creperie','New American','French','Italian','Steakhouse','American Restaurant','Cajun'\n             ,'Mediterranean','Seafood','BBQ Joint','German','Gastropub','Irish','Greek']\nla_cuisine.loc[(la_cuisine['Venue Category'].str.contains('|'.join(searchfor))),'cuisine_type'] = 'American/Eurpoean Food'\n\n\n# merge 3 food categories\n\n# clean up la_venue_region\nla_cuisine = la_cuisine[la_cuisine.cuisine_type!='Un-Classified']\nla_neighborhood_cuisine = la_cuisine[['Neighborhood','cuisine_type']]\n\n#la_neighborhood_cuisine"
        },
        {
            "cell_type": "markdown",
            "metadata": {},
            "source": "#### Analyze venues for each Neighborhood"
        },
        {
            "cell_type": "code",
            "execution_count": null,
            "metadata": {},
            "outputs": [],
            "source": "# one hot encoding\nla_cuisine_onehot = pd.get_dummies(la_neighborhood_cuisine[['cuisine_type']], prefix=\"\", prefix_sep=\"\")\n\n# add neighborhood column back to dataframe\nla_cuisine_onehot['Neighborhood'] = la_neighborhood_cuisine['Neighborhood'] \n\n# move neighborhood column to the first column\nfixed_columns = [la_cuisine_onehot.columns[-1]] + list(la_cuisine_onehot.columns[:-1])\nla_cuisine_onehot = la_cuisine_onehot[fixed_columns]\n\n#la_cuisine_onehot.tail(30)\n\nla_neighborhood_cuisine_grouped = la_cuisine_onehot.groupby('Neighborhood').mean().reset_index()\n#la_neighborhood_cuisine_grouped"
        },
        {
            "cell_type": "code",
            "execution_count": null,
            "metadata": {},
            "outputs": [],
            "source": "# function returns most common venues\ndef return_most_common_venues(row, num_top_venues):\n    row_categories = row.iloc[1:]\n    row_categories_sorted = row_categories.sort_values(ascending=False)\n    \n    return row_categories_sorted.index.values[0:num_top_venues]"
        },
        {
            "cell_type": "code",
            "execution_count": null,
            "metadata": {},
            "outputs": [],
            "source": "num_top_venues = 3\n\nindicators = ['st', 'nd', 'rd']\n\n# create columns according to number of top venues\ncolumns = ['Neighborhood']\nfor ind in np.arange(num_top_venues):\n    try:\n        columns.append('{}{} Most Common Venue'.format(ind+1, indicators[ind]))\n    except:\n        columns.append('{}th Most Common Venue'.format(ind+1))\n\n# create a new dataframe\nneighborhoods_cuisine_sorted = pd.DataFrame(columns=columns)\nneighborhoods_cuisine_sorted['Neighborhood'] = la_neighborhood_cuisine_grouped['Neighborhood']\n\nfor ind in np.arange(la_neighborhood_cuisine_grouped.shape[0]):\n    neighborhoods_cuisine_sorted.iloc[ind, 1:] = return_most_common_venues(la_neighborhood_cuisine_grouped.iloc[ind, :], num_top_venues)\n\n#neighborhoods_cuisine_sorted"
        },
        {
            "cell_type": "markdown",
            "metadata": {},
            "source": "#### Using Elbow method to determine the optimal K-Mean"
        },
        {
            "cell_type": "code",
            "execution_count": null,
            "metadata": {},
            "outputs": [],
            "source": "la_cuisine_grouped_clustering = la_neighborhood_cuisine_grouped.drop('Neighborhood', 1)\n \n\ndistortions = [] \ninertias = [] \nmapping1 = {} \nmapping2 = {} \nK = range(1,10) \n  \nfor k in K: \n    #Building and fitting the model \n    kmeanModel = KMeans(n_clusters=k).fit(la_cuisine_grouped_clustering) \n    kmeanModel.fit(la_cuisine_grouped_clustering)     \n     \n    distortions.append(sum(np.min(cdist(la_cuisine_grouped_clustering, kmeanModel.cluster_centers_, \n                      'euclidean'),axis=1)) / la_cuisine_grouped_clustering.shape[0]) \n    inertias.append(kmeanModel.inertia_) \n  \n    mapping1[k] = sum(np.min(cdist(la_cuisine_grouped_clustering, kmeanModel.cluster_centers_, \n                 'euclidean'),axis=1)) / la_cuisine_grouped_clustering.shape[0] \n    mapping2[k] = kmeanModel.inertia_ \n    \n\n#for key,val in mapping1.items(): \n#    print(str(key)+' : '+str(val)) \n    \nplt.plot(K, distortions, 'bx-') \nplt.xlabel('Values of K') \nplt.ylabel('Distortion') \nplt.title('The Elbow Method using Distortion') \nplt.show()"
        },
        {
            "cell_type": "code",
            "execution_count": null,
            "metadata": {},
            "outputs": [],
            "source": "#for key,val in mapping2.items(): \n#    print(str(key)+' : '+str(val)) \n    \nplt.plot(K, inertias, 'bx-') \nplt.xlabel('Values of K') \nplt.ylabel('Inertia') \nplt.title('The Elbow Method using Inertia') \nplt.show() "
        },
        {
            "cell_type": "markdown",
            "metadata": {},
            "source": "#### Cluster Neighborhoods"
        },
        {
            "cell_type": "code",
            "execution_count": null,
            "metadata": {},
            "outputs": [],
            "source": "# based on the Elbow method to determine the optimal K-Mean\n# set Kmean = 4\nkclusters = 4\n\n# run k-means clustering\nkmeans = KMeans(n_clusters=kclusters, random_state=0).fit(la_cuisine_grouped_clustering)\n\n# check cluster labels generated for each row in the dataframe\n#kmeans.labels_[0:10] \n"
        },
        {
            "cell_type": "code",
            "execution_count": null,
            "metadata": {},
            "outputs": [],
            "source": "la_neighborhoods_cuisine_merged = pd.merge(df_neighborhood_income_pop, neighborhoods_cuisine_sorted, \n                  how='inner', left_on='neighborhood', right_on='Neighborhood')\n\nla_neighborhoods_cuisine_merged = la_neighborhoods_cuisine_merged.drop(['Neighborhood'],axis=1)\n\n# channge datatype\nla_neighborhoods_cuisine_merged.income = round(la_neighborhoods_cuisine_merged.income,2)\nla_neighborhoods_cuisine_merged.total_pop = la_neighborhoods_cuisine_merged.total_pop.astype(int)\nla_neighborhoods_cuisine_merged.white_pop = la_neighborhoods_cuisine_merged.white_pop.astype(int)\nla_neighborhoods_cuisine_merged.asian_pop = la_neighborhoods_cuisine_merged.asian_pop.astype(int)\nla_neighborhoods_cuisine_merged.latino_pop = la_neighborhoods_cuisine_merged.latino_pop.astype(int)\n\n# add clustering labels\nla_neighborhoods_cuisine_merged.insert(0,'cluster',0)\nla_neighborhoods_cuisine_merged.insert(1,'cluster_label','')\nla_neighborhoods_cuisine_merged['cluster'] =  kmeans.labels_\n\n#la_neighborhoods_cuisine_merged.head() # check the last columns!\n\n"
        },
        {
            "cell_type": "markdown",
            "metadata": {},
            "source": "#### Examine Cluster"
        },
        {
            "cell_type": "code",
            "execution_count": null,
            "metadata": {},
            "outputs": [],
            "source": "la_neighborhoods_cuisine_merged[['cluster','neighborhood','1st Most Common Venue','2nd Most Common Venue','3rd Most Common Venue']].head()"
        },
        {
            "cell_type": "code",
            "execution_count": null,
            "metadata": {},
            "outputs": [],
            "source": "# visualize cuisine type distribution in each cluster\ndf_data = la_neighborhoods_cuisine_merged[['cluster','1st Most Common Venue']]\ndf_data.insert(2, 'count',1)\ndf_data.columns =['cluster','cuisine','count']\n\ndf_data\n\ndf_pivot = pd.pivot_table(\n    df_data, \n    values=\"count\",\n    index=\"cluster\",\n    columns=\"cuisine\", \n    aggfunc=np.sum\n)\n\nax = df_pivot.plot(kind='bar',title='Number of Cuisine Type in Each Cluster')\nfig = ax.get_figure()\nfig.set_size_inches(10,4)\nax.set_xlabel(\"Cluster\")\nax.set_ylabel(\"Count\")\nax.legend()\nplt.show()\n"
        },
        {
            "cell_type": "markdown",
            "metadata": {},
            "source": "##### Create label for cluster after examine the clusters"
        },
        {
            "cell_type": "code",
            "execution_count": null,
            "metadata": {},
            "outputs": [],
            "source": "# assign cluster label\nla_neighborhoods_cuisine_merged.loc[la_neighborhoods_cuisine_merged.cluster == 0,['cluster_label']] = 'Asian Cuisine Dominant'\nla_neighborhoods_cuisine_merged.loc[la_neighborhoods_cuisine_merged.cluster == 1,['cluster_label']] = 'American/European Cuisine Dominant' \nla_neighborhoods_cuisine_merged.loc[la_neighborhoods_cuisine_merged.cluster == 2,['cluster_label']] = 'Mixture of Asian - American Cuisine' \nla_neighborhoods_cuisine_merged.loc[la_neighborhoods_cuisine_merged.cluster == 3,['cluster_label']] = 'Latin American Cuisine Dominant'\n#la_neighborhoods_cuisine_merged.head()"
        },
        {
            "cell_type": "code",
            "execution_count": null,
            "metadata": {},
            "outputs": [],
            "source": "# cleanup unused fields\nla_neighborhoods_cuisine_merged.drop(['1st Most Common Venue','2nd Most Common Venue','3rd Most Common Venue'],axis=1,inplace=True)"
        },
        {
            "cell_type": "code",
            "execution_count": null,
            "metadata": {},
            "outputs": [],
            "source": "la_neighborhoods_cuisine_merged.head()"
        },
        {
            "cell_type": "markdown",
            "metadata": {},
            "source": "#### Create cluster visualization"
        },
        {
            "cell_type": "code",
            "execution_count": null,
            "metadata": {},
            "outputs": [],
            "source": "#create_map(title,legendname, df_data, map_attribute):\ncreate_HeatMap ('Cuisine Clusters by Median Income', 'Median Income', df_neighborhood_income_pop, 'income', la_neighborhoods_cuisine_merged )"
        },
        {
            "cell_type": "code",
            "execution_count": null,
            "metadata": {},
            "outputs": [],
            "source": "create_HeatMap ('Cuisine Clusters by Population', 'Population', df_neighborhood_income_pop, 'total_pop', la_neighborhoods_cuisine_merged )"
        },
        {
            "cell_type": "code",
            "execution_count": null,
            "metadata": {},
            "outputs": [],
            "source": "create_HeatMap ('Cuisine Clusters by Latino Population', 'Latino Population', df_neighborhood_income_pop, 'latino_pop', la_neighborhoods_cuisine_merged )"
        },
        {
            "cell_type": "code",
            "execution_count": null,
            "metadata": {},
            "outputs": [],
            "source": "create_HeatMap ('Cuisine Clusters by Asian Population', 'Asian Population', df_neighborhood_income_pop, 'asian_pop', la_neighborhoods_cuisine_merged )"
        },
        {
            "cell_type": "code",
            "execution_count": null,
            "metadata": {},
            "outputs": [],
            "source": "create_HeatMap ('Cuisine Clusters by White Population', 'White Population', df_neighborhood_income_pop, 'white_pop', la_neighborhoods_cuisine_merged )"
        }
    ],
    "metadata": {
        "kernelspec": {
            "display_name": "Python 3.7",
            "language": "python",
            "name": "python3"
        },
        "language_info": {
            "codemirror_mode": {
                "name": "ipython",
                "version": 3
            },
            "file_extension": ".py",
            "mimetype": "text/x-python",
            "name": "python",
            "nbconvert_exporter": "python",
            "pygments_lexer": "ipython3",
            "version": "3.7.9"
        }
    },
    "nbformat": 4,
    "nbformat_minor": 1
}