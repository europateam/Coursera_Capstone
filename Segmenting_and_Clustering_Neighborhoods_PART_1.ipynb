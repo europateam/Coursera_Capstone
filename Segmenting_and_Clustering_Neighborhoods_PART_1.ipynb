{
    "cells": [
        {
            "cell_type": "markdown",
            "metadata": {
                "collapsed": true
            },
            "source": "## Segmenting and Clustering Neighborhoods in Toronto"
        },
        {
            "cell_type": "markdown",
            "metadata": {},
            "source": "# PART 1\n\n##### Install libraries"
        },
        {
            "cell_type": "code",
            "execution_count": 1,
            "metadata": {},
            "outputs": [
                {
                    "name": "stdout",
                    "output_type": "stream",
                    "text": "Requirement already satisfied: beautifulsoup4 in /opt/conda/envs/Python-3.7-main/lib/python3.7/site-packages (4.9.1)\nRequirement already satisfied: soupsieve>1.2 in /opt/conda/envs/Python-3.7-main/lib/python3.7/site-packages (from beautifulsoup4) (2.0.1)\nRequirement already satisfied: html5lib in /opt/conda/envs/Python-3.7-main/lib/python3.7/site-packages (1.1)\nRequirement already satisfied: webencodings in /opt/conda/envs/Python-3.7-main/lib/python3.7/site-packages (from html5lib) (0.5.1)\nRequirement already satisfied: six>=1.9 in /opt/conda/envs/Python-3.7-main/lib/python3.7/site-packages (from html5lib) (1.15.0)\nComplete imported libraries\n"
                }
            ],
            "source": "# install beautifulsoup4 library using to parse HTML page\n\n!pip install beautifulsoup4\n!pip install html5lib\n\nfrom bs4 import BeautifulSoup\nimport pandas as pd\nimport numpy as np\nimport requests\n\n\nprint('Complete imported libraries')"
        },
        {
            "cell_type": "markdown",
            "metadata": {},
            "source": "##### Using BeautifulSoup library to scrape the Wikipedia page to get Postal Code"
        },
        {
            "cell_type": "code",
            "execution_count": 2,
            "metadata": {},
            "outputs": [],
            "source": "# parsing the html to get Postal_codes_in_Canada\ndef getPostalCode_DataFrame(page_content):\n\n    soup = BeautifulSoup(page_content, 'html.parser')\n\n    #print(soup.prettify())\n    # find the table that contains Postal_codes_in_Canada\n    tbl = (soup.find_all(class_='wikitable sortable'))\n\n\n    # if the table exists then parsing the rows.\n    if (len(tbl) >0):\n        rows = tbl[0].find_all('tr')\n\n        col1 = pd.DataFrame(columns = [\"PostalCode\"])\n        col2 = pd.DataFrame(columns = [\"Borough\"])\n        col3 = pd.DataFrame(columns = [\"Neighborhood\"])\n\n        # loop through rows\n        for  i, row in enumerate(rows): \n\n            # skip the header, get data rows\n            if (i>0):\n                columns = row.find_all('td') \n\n                # there are 3 columns\n                postalcode = str(columns[0]).replace('<td>','').replace('</td>','').replace('\\n','').strip()\n                borough = str(columns[1]).replace('<td>','').replace('</td>','').replace('\\n',''). strip()\n                neighborhoods =  str(columns[2]).replace('<td>','').replace('</td>','').replace('\\n','').strip()\n              \n                col1.loc[i-1] = postalcode \n                col2.loc[i-1] = borough\n                col3.loc[i-1] = neighborhoods\n                    \n                df_raw = pd.concat([col1, col2, col3],  axis=1)\n    \n        return df_raw\n    else:\n        return None"
        },
        {
            "cell_type": "code",
            "execution_count": 3,
            "metadata": {},
            "outputs": [],
            "source": "# request html page\nhtml = \"https://en.wikipedia.org/wiki/List_of_postal_codes_of_Canada:_M\"\npage = requests.get(html)\npage_content = page.content\n"
        },
        {
            "cell_type": "markdown",
            "metadata": {},
            "source": "##### Cleansing data and combine postal code and geo code data frames to create a final data frame"
        },
        {
            "cell_type": "code",
            "execution_count": 5,
            "metadata": {},
            "outputs": [
                {
                    "data": {
                        "text/html": "<div>\n<style scoped>\n    .dataframe tbody tr th:only-of-type {\n        vertical-align: middle;\n    }\n\n    .dataframe tbody tr th {\n        vertical-align: top;\n    }\n\n    .dataframe thead th {\n        text-align: right;\n    }\n</style>\n<table border=\"1\" class=\"dataframe\">\n  <thead>\n    <tr style=\"text-align: right;\">\n      <th></th>\n      <th>PostalCode</th>\n      <th>Borough</th>\n      <th>Neighborhood</th>\n    </tr>\n  </thead>\n  <tbody>\n    <tr>\n      <th>0</th>\n      <td>M3A</td>\n      <td>North York</td>\n      <td>Parkwoods</td>\n    </tr>\n    <tr>\n      <th>1</th>\n      <td>M4A</td>\n      <td>North York</td>\n      <td>Victoria Village</td>\n    </tr>\n    <tr>\n      <th>2</th>\n      <td>M5A</td>\n      <td>Downtown Toronto</td>\n      <td>Regent Park, Harbourfront</td>\n    </tr>\n    <tr>\n      <th>3</th>\n      <td>M6A</td>\n      <td>North York</td>\n      <td>Lawrence Manor, Lawrence Heights</td>\n    </tr>\n    <tr>\n      <th>4</th>\n      <td>M7A</td>\n      <td>Downtown Toronto</td>\n      <td>Queen's Park, Ontario Provincial Government</td>\n    </tr>\n    <tr>\n      <th>5</th>\n      <td>M9A</td>\n      <td>Etobicoke</td>\n      <td>Islington Avenue, Humber Valley Village</td>\n    </tr>\n    <tr>\n      <th>6</th>\n      <td>M1B</td>\n      <td>Scarborough</td>\n      <td>Malvern, Rouge</td>\n    </tr>\n    <tr>\n      <th>7</th>\n      <td>M3B</td>\n      <td>North York</td>\n      <td>Don Mills</td>\n    </tr>\n    <tr>\n      <th>8</th>\n      <td>M4B</td>\n      <td>East York</td>\n      <td>Parkview Hill, Woodbine Gardens</td>\n    </tr>\n    <tr>\n      <th>9</th>\n      <td>M5B</td>\n      <td>Downtown Toronto</td>\n      <td>Garden District, Ryerson</td>\n    </tr>\n    <tr>\n      <th>10</th>\n      <td>M6B</td>\n      <td>North York</td>\n      <td>Glencairn</td>\n    </tr>\n    <tr>\n      <th>11</th>\n      <td>M9B</td>\n      <td>Etobicoke</td>\n      <td>West Deane Park, Princess Gardens, Martin Grov...</td>\n    </tr>\n    <tr>\n      <th>12</th>\n      <td>M1C</td>\n      <td>Scarborough</td>\n      <td>Rouge Hill, Port Union, Highland Creek</td>\n    </tr>\n    <tr>\n      <th>13</th>\n      <td>M3C</td>\n      <td>North York</td>\n      <td>Don Mills</td>\n    </tr>\n    <tr>\n      <th>14</th>\n      <td>M4C</td>\n      <td>East York</td>\n      <td>Woodbine Heights</td>\n    </tr>\n  </tbody>\n</table>\n</div>",
                        "text/plain": "   PostalCode           Borough  \\\n0         M3A        North York   \n1         M4A        North York   \n2         M5A  Downtown Toronto   \n3         M6A        North York   \n4         M7A  Downtown Toronto   \n5         M9A         Etobicoke   \n6         M1B       Scarborough   \n7         M3B        North York   \n8         M4B         East York   \n9         M5B  Downtown Toronto   \n10        M6B        North York   \n11        M9B         Etobicoke   \n12        M1C       Scarborough   \n13        M3C        North York   \n14        M4C         East York   \n\n                                         Neighborhood  \n0                                           Parkwoods  \n1                                    Victoria Village  \n2                           Regent Park, Harbourfront  \n3                    Lawrence Manor, Lawrence Heights  \n4         Queen's Park, Ontario Provincial Government  \n5             Islington Avenue, Humber Valley Village  \n6                                      Malvern, Rouge  \n7                                           Don Mills  \n8                     Parkview Hill, Woodbine Gardens  \n9                            Garden District, Ryerson  \n10                                          Glencairn  \n11  West Deane Park, Princess Gardens, Martin Grov...  \n12             Rouge Hill, Port Union, Highland Creek  \n13                                          Don Mills  \n14                                   Woodbine Heights  "
                    },
                    "execution_count": 5,
                    "metadata": {},
                    "output_type": "execute_result"
                }
            ],
            "source": "# cleansing postal code dataframe\n\n# get postal code dataframe from parsing function\ndf_raw = getPostalCode_DataFrame(page_content)\n\n#print(df_raw.dtypes)\n#print(df_raw.shape)\n#print(df_raw.Borough.unique())\n\n# removed Borough = 'Not assigned'\ndf_postal = df_raw[df_raw.Borough != 'Not assigned'].copy()\n\n#print(df_postal.shape)  #removed 77 Borough = 'Not assigned'\n\n# borough has value but neighborhood has Not assigned. Set neighborhood to be the same as the borough.\n# check Neighborhood = 'Not assigned' in the df_postal. Since Borough = 'Not assigned' was removed\n\n# it is safe to assume Borough is valid and should assign to 'Not assigned' Neighbourhood\n# replace Neighborhood = 'Not assigned' to NaN\ndf_postal.Neighborhood = df_postal.Neighborhood.replace('Not assigned',np.NaN)\n\n# then replace NaN with Borough's value\ndf_postal['Neighborhood'].fillna(df_postal['Borough'], inplace=True)\n\ndf_postal.reset_index(drop=True,inplace = True)\n\ndf_postal.head(15)"
        },
        {
            "cell_type": "code",
            "execution_count": 6,
            "metadata": {},
            "outputs": [
                {
                    "data": {
                        "text/plain": "(103, 3)"
                    },
                    "execution_count": 6,
                    "metadata": {},
                    "output_type": "execute_result"
                }
            ],
            "source": "df_postal.shape"
        },
        {
            "cell_type": "code",
            "execution_count": null,
            "metadata": {},
            "outputs": [],
            "source": ""
        }
    ],
    "metadata": {
        "kernelspec": {
            "display_name": "Python 3.7",
            "language": "python",
            "name": "python3"
        },
        "language_info": {
            "codemirror_mode": {
                "name": "ipython",
                "version": 3
            },
            "file_extension": ".py",
            "mimetype": "text/x-python",
            "name": "python",
            "nbconvert_exporter": "python",
            "pygments_lexer": "ipython3",
            "version": "3.7.9"
        }
    },
    "nbformat": 4,
    "nbformat_minor": 1
}