{
    "cells": [
        {
            "cell_type": "markdown",
            "metadata": {
                "collapsed": true
            },
            "source": "## Segmenting and Clustering Neighborhoods in Toronto"
        },
        {
            "cell_type": "markdown",
            "metadata": {},
            "source": "##### Install libraries"
        },
        {
            "cell_type": "code",
            "execution_count": 100,
            "metadata": {},
            "outputs": [
                {
                    "name": "stdout",
                    "output_type": "stream",
                    "text": "Requirement already satisfied: beautifulsoup4 in /opt/conda/envs/Python-3.7-main/lib/python3.7/site-packages (4.9.1)\nRequirement already satisfied: soupsieve>1.2 in /opt/conda/envs/Python-3.7-main/lib/python3.7/site-packages (from beautifulsoup4) (2.0.1)\nRequirement already satisfied: html5lib in /opt/conda/envs/Python-3.7-main/lib/python3.7/site-packages (1.1)\nRequirement already satisfied: six>=1.9 in /opt/conda/envs/Python-3.7-main/lib/python3.7/site-packages (from html5lib) (1.15.0)\nRequirement already satisfied: webencodings in /opt/conda/envs/Python-3.7-main/lib/python3.7/site-packages (from html5lib) (0.5.1)\nComplete install beautifulsoup4\n"
                }
            ],
            "source": "# install beautifulsoup4 library using to parse HTML page\n\n!pip install beautifulsoup4\n!pip install html5lib\n\nprint('Complete install beautifulsoup4')\n\nfrom bs4 import BeautifulSoup\nimport pandas as pd\nimport numpy as np\nimport requests"
        },
        {
            "cell_type": "markdown",
            "metadata": {},
            "source": "##### Using BeautifulSoup library to scrape the Wikipedia page to get Postal Code"
        },
        {
            "cell_type": "code",
            "execution_count": 94,
            "metadata": {},
            "outputs": [],
            "source": "# parsing the html to get Postal_codes_in_Canada\ndef getPostalCode_DataFrame(page_content):\n\n    soup = BeautifulSoup(page_content, 'html.parser')\n\n    #print(soup.prettify())\n    # find the table that contains Postal_codes_in_Canada\n    tbl = (soup.find_all(class_='wikitable sortable'))\n\n\n    # if the table exists then parsing the rows.\n    if (len(tbl) >0):\n        rows = tbl[0].find_all('tr')\n\n        col1 = pd.DataFrame(columns = [\"PostalCode\"])\n        col2 = pd.DataFrame(columns = [\"Borough\"])\n        col3 = pd.DataFrame(columns = [\"Neighborhood\"])\n\n        # loop through rows\n        for  i, row in enumerate(rows): \n\n            # skip the header, get data rows\n            if (i>0):\n                columns = row.find_all('td') \n\n                # there are 3 columns\n                postalcode = str(columns[0]).replace('<td>','').replace('</td>','').replace('\\n','').strip()\n                borough = str(columns[1]).replace('<td>','').replace('</td>','').replace('\\n',''). strip()\n                neighborhoods =  str(columns[2]).replace('<td>','').replace('</td>','').replace('\\n','').strip()\n              \n                col1.loc[i-1] = postalcode \n                col2.loc[i-1] = borough\n                col3.loc[i-1] = neighborhoods\n                    \n                df_raw = pd.concat([col1, col2, col3],  axis=1)\n    \n        return df_raw\n    else:\n        return None"
        },
        {
            "cell_type": "code",
            "execution_count": 95,
            "metadata": {},
            "outputs": [],
            "source": "# request html page\nhtml = \"https://en.wikipedia.org/wiki/List_of_postal_codes_of_Canada:_M\"\npage = requests.get(html)\npage_content = page.content\n"
        },
        {
            "cell_type": "markdown",
            "metadata": {},
            "source": "##### Cleansing data and combine postal code and geo code data frames to create a final data frame"
        },
        {
            "cell_type": "code",
            "execution_count": 96,
            "metadata": {},
            "outputs": [],
            "source": "# cleansing postal code dataframe\n\n# get postal code dataframe from parsing function\ndf_raw = getPostalCode_DataFrame(page_content)\n\n#print(df_raw.dtypes)\n#print(df_raw.shape)\n#print(df_raw.Borough.unique())\n\n# removed Borough = 'Not assigned'\ndf_postal = df_raw[df_raw.Borough != 'Not assigned'].copy()\n\n#print(df_postal.shape)  #removed 77 Borough = 'Not assigned'\n\n# borough has value but neighborhood has Not assigned. Set neighborhood to be the same as the borough.\n# check Neighborhood = 'Not assigned' in the df_postal. Since Borough = 'Not assigned' was removed\n\n# it is safe to assume Borough is valid and should assign to 'Not assigned' Neighbourhood\n# replace Neighborhood = 'Not assigned' to NaN\ndf_postal.Neighborhood = df_postal.Neighborhood.replace('Not assigned',np.NaN)\n\n# then replace NaN with Borough's value\ndf_postal['Neighborhood'].fillna(df_postal['Borough'], inplace=True)\n\ndf_postal.set_index('PostalCode',inplace=True)\n#print(df_postal.shape)"
        },
        {
            "cell_type": "code",
            "execution_count": 97,
            "metadata": {},
            "outputs": [
                {
                    "data": {
                        "text/html": "<div>\n<style scoped>\n    .dataframe tbody tr th:only-of-type {\n        vertical-align: middle;\n    }\n\n    .dataframe tbody tr th {\n        vertical-align: top;\n    }\n\n    .dataframe thead th {\n        text-align: right;\n    }\n</style>\n<table border=\"1\" class=\"dataframe\">\n  <thead>\n    <tr style=\"text-align: right;\">\n      <th></th>\n      <th>Latitude</th>\n      <th>Longitude</th>\n    </tr>\n    <tr>\n      <th>PostalCode</th>\n      <th></th>\n      <th></th>\n    </tr>\n  </thead>\n  <tbody>\n    <tr>\n      <th>M1B</th>\n      <td>43.806686</td>\n      <td>-79.194353</td>\n    </tr>\n    <tr>\n      <th>M1C</th>\n      <td>43.784535</td>\n      <td>-79.160497</td>\n    </tr>\n    <tr>\n      <th>M1E</th>\n      <td>43.763573</td>\n      <td>-79.188711</td>\n    </tr>\n    <tr>\n      <th>M1G</th>\n      <td>43.770992</td>\n      <td>-79.216917</td>\n    </tr>\n    <tr>\n      <th>M1H</th>\n      <td>43.773136</td>\n      <td>-79.239476</td>\n    </tr>\n  </tbody>\n</table>\n</div>",
                        "text/plain": "             Latitude  Longitude\nPostalCode                      \nM1B         43.806686 -79.194353\nM1C         43.784535 -79.160497\nM1E         43.763573 -79.188711\nM1G         43.770992 -79.216917\nM1H         43.773136 -79.239476"
                    },
                    "execution_count": 97,
                    "metadata": {},
                    "output_type": "execute_result"
                }
            ],
            "source": "# load geographical coordinates of each postal code\nurl = 'http://cocl.us/Geospatial_data'\ndf_geo = pd.read_csv(url, index_col=None, header='infer')\n\ndf_geo.rename(columns={'Postal Code': 'PostalCode'}, inplace=True)\ndf_geo.set_index('PostalCode',inplace=True)\n\ndf_geo.head()"
        },
        {
            "cell_type": "code",
            "execution_count": 98,
            "metadata": {},
            "outputs": [
                {
                    "data": {
                        "text/html": "<div>\n<style scoped>\n    .dataframe tbody tr th:only-of-type {\n        vertical-align: middle;\n    }\n\n    .dataframe tbody tr th {\n        vertical-align: top;\n    }\n\n    .dataframe thead th {\n        text-align: right;\n    }\n</style>\n<table border=\"1\" class=\"dataframe\">\n  <thead>\n    <tr style=\"text-align: right;\">\n      <th></th>\n      <th>PostalCode</th>\n      <th>Borough</th>\n      <th>Neighborhood</th>\n      <th>Latitude</th>\n      <th>Longitude</th>\n    </tr>\n  </thead>\n  <tbody>\n    <tr>\n      <th>0</th>\n      <td>M3A</td>\n      <td>North York</td>\n      <td>Parkwoods</td>\n      <td>43.753259</td>\n      <td>-79.329656</td>\n    </tr>\n    <tr>\n      <th>1</th>\n      <td>M4A</td>\n      <td>North York</td>\n      <td>Victoria Village</td>\n      <td>43.725882</td>\n      <td>-79.315572</td>\n    </tr>\n    <tr>\n      <th>2</th>\n      <td>M5A</td>\n      <td>Downtown Toronto</td>\n      <td>Regent Park, Harbourfront</td>\n      <td>43.654260</td>\n      <td>-79.360636</td>\n    </tr>\n    <tr>\n      <th>3</th>\n      <td>M6A</td>\n      <td>North York</td>\n      <td>Lawrence Manor, Lawrence Heights</td>\n      <td>43.718518</td>\n      <td>-79.464763</td>\n    </tr>\n    <tr>\n      <th>4</th>\n      <td>M7A</td>\n      <td>Downtown Toronto</td>\n      <td>Queen's Park, Ontario Provincial Government</td>\n      <td>43.662301</td>\n      <td>-79.389494</td>\n    </tr>\n  </tbody>\n</table>\n</div>",
                        "text/plain": "  PostalCode           Borough                                 Neighborhood  \\\n0        M3A        North York                                    Parkwoods   \n1        M4A        North York                             Victoria Village   \n2        M5A  Downtown Toronto                    Regent Park, Harbourfront   \n3        M6A        North York             Lawrence Manor, Lawrence Heights   \n4        M7A  Downtown Toronto  Queen's Park, Ontario Provincial Government   \n\n    Latitude  Longitude  \n0  43.753259 -79.329656  \n1  43.725882 -79.315572  \n2  43.654260 -79.360636  \n3  43.718518 -79.464763  \n4  43.662301 -79.389494  "
                    },
                    "execution_count": 98,
                    "metadata": {},
                    "output_type": "execute_result"
                }
            ],
            "source": "# combine dataframe\ndf = df_postal.merge(df_geo, left_index=True, right_index=True)\n\n# reset index\ndf.reset_index(inplace=True)\n\ndf.head()"
        },
        {
            "cell_type": "code",
            "execution_count": 99,
            "metadata": {},
            "outputs": [
                {
                    "data": {
                        "text/plain": "(103, 5)"
                    },
                    "execution_count": 99,
                    "metadata": {},
                    "output_type": "execute_result"
                }
            ],
            "source": "df.shape"
        }
    ],
    "metadata": {
        "kernelspec": {
            "display_name": "Python 3.7",
            "language": "python",
            "name": "python3"
        },
        "language_info": {
            "codemirror_mode": {
                "name": "ipython",
                "version": 3
            },
            "file_extension": ".py",
            "mimetype": "text/x-python",
            "name": "python",
            "nbconvert_exporter": "python",
            "pygments_lexer": "ipython3",
            "version": "3.7.9"
        }
    },
    "nbformat": 4,
    "nbformat_minor": 1
}